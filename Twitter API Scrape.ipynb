{
 "cells": [
  {
   "cell_type": "code",
   "execution_count": null,
   "id": "cd1e29b8",
   "metadata": {},
   "outputs": [],
   "source": [
    "#import configparser \n",
    "\n",
    "#config = configparser.RawConfigParser()"
   ]
  },
  {
   "cell_type": "code",
   "execution_count": null,
   "id": "48222d52",
   "metadata": {},
   "outputs": [],
   "source": [
    "#config.read(filenames = '/Desktop/WNBA/twitter_keys.txt')"
   ]
  },
  {
   "cell_type": "markdown",
   "id": "f2a9afb7",
   "metadata": {},
   "source": [
    "### You will have to install tweepy \n",
    "- Just do a `pip install tweepy` in your terminal, the next cell should run after that"
   ]
  },
  {
   "cell_type": "code",
   "execution_count": 1,
   "id": "ce435b7f",
   "metadata": {},
   "outputs": [],
   "source": [
    "import tweepy"
   ]
  },
  {
   "cell_type": "markdown",
   "id": "0edb6314",
   "metadata": {},
   "source": [
    "### The bearer token is linked to a twitter account that I just made. I'd appreciate if you don't get me banned but its basically a throwaway."
   ]
  },
  {
   "cell_type": "code",
   "execution_count": 2,
   "id": "96b94d37",
   "metadata": {},
   "outputs": [],
   "source": [
    "client = tweepy.Client(bearer_token='%%')\n"
   ]
  },
  {
   "cell_type": "code",
   "execution_count": 3,
   "id": "dc44c9a8",
   "metadata": {},
   "outputs": [],
   "source": [
    "#the dash in front of the query parameters is a negation so \"-is:retweet\" returns tweets that are not retweets, etc.\n",
    "query = 'WNBA -is:retweet -has:links -has:mentions'\n",
    "\n",
    "tweets = client.search_recent_tweets(query=query, max_results=100, tweet_fields=['author_id', 'created_at'])"
   ]
  },
  {
   "cell_type": "code",
   "execution_count": 4,
   "id": "87cf013b",
   "metadata": {
    "scrolled": false
   },
   "outputs": [
    {
     "name": "stdout",
     "output_type": "stream",
     "text": [
      "Gotta get some pizza and watch the WNBA finals 💯\n",
      "Are you watching ÑFL or WNBA tonight?\n",
      "Ladies are y’all watching the WNBA finals tonight?\n",
      "When that wnba player gets out of Russian prison, my cats will probably die….#constantworry #Bellatrix #deatheaters\n",
      "Whatever happened to that WNBA player that was detained, arrested, sentenced and imprisoned in Russian for bringing THC oils into their country?\n",
      "WNBA Finals Play 🏀 \n",
      "Sun 1Q ML\n",
      "Over 160\n",
      "🏀WNBA FINALS\n",
      "\n",
      "1u lva w +1.5 -125\n",
      "\n",
      "👊\n",
      "Wait a fucking minute aja Wilson could become a wnba champion tonight\n",
      "It’s time to watch the Sunset in Connecticut while the Aces win their first WNBA CHAMPIONSHIP!\n",
      "While y’all watching football imma be tuned into the WNBA Finals\n",
      "Since the WNBA has a 9pm start I will get to see some of my CHIEFS before the ladies tip-off. Great night for a sports fan!\n",
      "WNBA (Game 3) - 09/15 🏀 \n",
      "\n",
      "LV Aces/CONN Sun U 160.5 \n",
      "\n",
      "(Lean - LV Aces +1/ML +100)\n",
      "\n",
      "#GamblingTwitter\n",
      "glad i don't follow baseball closely as I don't think I could take a third mvp debate with two worthy candidates and vitriol about it after mnba and wnba.\n",
      "Wnba\n",
      "\n",
      "Connecticut -1\n",
      "Connecticut ML\n",
      "Connecticut over 160\n",
      "All WNBA teams getting announced in pregame tonight. Gonna make for an even wilder night on here\n",
      "Where can I stream the WNBA finals besides ESPN?\n",
      "As sad as I am to see the WNBA season come to and end; I do want this wrapped up tonight. 🤷🏾‍♀️ I love CT but yea…\n",
      "I try to keep an open mind and respect ESPN's need to showcase a lot of sports. But we're not getting the WNBA Finals pregame show on ESPN proper because they're airing a lacrosse documentary?\n",
      "The All-WNBA First and Second teams will be revealed this evening on the WNBA Finals pregame show airing on ESPNews in the 8:30-9:00PM/ET window. #WNBATwitter\n",
      "The 2022 All-#WNBA teams will be unveiled during WNBA Countdown tomorrow night (8:30 p.m. ET, ESPNEWS) #WNBAFinals\n",
      "I am very content with where I am career wise. Assisting a total of 5 NFL clients &amp; 2 NBA clients. Just need the WNBA clients.. but nonetheless, very happy 🥹\n",
      "Thursday night football and WNBA Finals.\n",
      "\n",
      "TV and iPad doing overtime! Lol\n",
      "Football &amp; WNBA tonight 🔥\n",
      "WNBA game 3 final game??? Sun/Aces over 159.5 - pace was there to go over, but the 3pt(9-40) &amp; FT(11 missed) shooting was terrible. Those #'s can only improve. FT fest @ end if sun down always a possibility.\n",
      "I think I’m rooting for the WNBA Las Vegas Aces 👀\n",
      "Am I considering buying airplane wifi in case tonight is the last WNBA game of the season? Yes. Do I think it will work well enough for me to stream the game? No. Still thinking about it? Yes.\n",
      "ver o suposto sport club corinthians paulista praticar futebola ou ver meu las vegas aces ter a chance de fechar a série hoje e ser campeão da wnba???\n",
      "Will the LV Aces win the WNBA Finals in Game 3? #RaiseTheStakes  // #WNBAFinals\n",
      "who’s watching the WNBA Finals tonight??\n",
      "Why are these WNBA finals games scheduled during the same time as NFL games? No one can compete with the NFL. Hell, the fcukin Emmys moved because of football.\n",
      "MLB\n",
      "⚾️Marlins ML (+116)\n",
      "⚾️Mets -1.5 (-114)\n",
      "\n",
      "WNBA\n",
      "🏀Sun ML (-108)\n",
      "That Game Tonight Gonna Be Lit🏀✨ #WNBA\n",
      "really want the WNBA finals to go to game 5.. something bout those do or die games\n",
      "Where y’all watching the game tonight? #NFL #WNBA\n",
      "🗓 16/09 ⚠️ 3 h  \n",
      "\n",
      "🏀 Wnba \n",
      "\n",
      "              Connecticut 🆚 Las Vegas \n",
      "\n",
      "Pick  ☀️\n",
      "\n",
      "☑️ Jonquel Jones + 26.5 prp    📊 1.80 Betclic \n",
      "\n",
      "⚡ 10 euros ⭐⭐⭐ \n",
      "\n",
      "#Teamparieur #Teamparieurs\n",
      "Haven’t seen a WNBA finals ad anywhere at all\n",
      "President Joe Biden will meet Friday with family members of WNBA star Brittney Griner and former Marine Paul Whelan as the White House continues to push for their release via negotiations for a prisoner swap, said White House press secretary Karine Jean-Pierre.\n",
      "Gray's hot hand helps put Las Vegas Aces on brink of first WNBA no bap Chelsea Gray 💲👀 ♠️'s\n",
      "WNBA finals on tonight and y’all talking about Chiefs and Chargers?????!!\n",
      "Gray's hot hand helps put Las Vegas Aces on brink of first WNBA title https://www.espn\n",
      "Once again, I hate Game 3 of the WNBA finals is on at the same time as Chiefs Chargers\n",
      "Sliding to the WNBA finals game 3 tonight hope the CT girls don't get smoked but Vegas is ridiculous\n",
      "the downside to the Aces wrapping this series up like a present tonight...\n",
      "\n",
      "the WNBA will then go into hibernation until the draft lottery for one night.. then back into hibernation until the middle of January..   \n",
      "\n",
      "#wnbatwitter\n",
      "Adult life is tragically preventing me from staying up for game 3 but I hope I wake up to a new wnba champ tomorrow\n",
      "hoping Las Vegas Aces win the WNBA championship tonight\n",
      "NFL, MLB, and WNBA tonight. \n",
      "\n",
      "Tell us your top prop (NFL, MLB, or WNBA) greater than -120? ⤵️\n",
      "The WNBA’s viewership is 📈 &amp; the media rights deal they will be negotiating should, based on the numbers, be bigger than MLS. When people say no one watches women’s sports, the facts/stats say otherwise.\n",
      "\n",
      "#wnbatwitter\n",
      "Going to see “The Woman King” before elimination game WNBA playoffs &gt;&gt;&gt;\n",
      "going from the wnba playoffs and finals to watching anthony davis trip over his shoelaces in a couple weeks is gonna be a tough transition.\n",
      "WNBA finals game on a NFL Thursday…\n",
      "i might not b the same height as wnba but i can mothafuccin ball LMFAOO like deadass im good at most sports\n",
      "Will the WNBA title be handed out tonight? 👀\n",
      "WNBA Model Numbers:\n",
      "\n",
      "LVA 159.6\n",
      "CON -6.7\n",
      "Whoever schedules WNBA games/playoffs should be fired tbh\n",
      "The WNBA players dress way better than the NBA players and it’s not even close.\n",
      "Big part of why this was necessary: \n",
      "\n",
      "The Modern Era\n",
      "The Kobe Era\n",
      "The Jordan Era\n",
      "The Magic vs Bird Era\n",
      "(and technically the WNBA, though I do not pretend to be qualified on content/Analysis here)\n",
      "\n",
      "I'm a One Man Army &amp; you'd better believe I can tackle the work of 10 men.\n",
      "Chargers game, WNBA finals, burgers and beers, lmk if you want to roll tonight\n",
      "Collective bargaining and the voices of WNBA players are also necessary in the push for structural changes and protections related to pay, travel, and the collection of biodata that will ultimately create safer and more equitable working conditions in the league.\n",
      "WNBA Drop GL If Tailing 🟢🚀\n",
      "\n",
      "AJ Wilson Over 3Blk+Steals / Under 11Rebounds \n",
      "\n",
      "DeWanna Bonner Under 2Blk+Steals🔥\n",
      "\n",
      "LVA Over 1.5 Freethrows 1ST 6Mins\n",
      "\n",
      "Natisha Hiedeman Under 3Assist\n",
      "\n",
      "Con Over 4 2PT FG 1st 6Mins \n",
      "\n",
      "Kelsey Plum Over 3 Freethrows🟢\n",
      "\n",
      "Alyssa Thomas Under 2.5 Freethrows\n",
      "The WNBA reminds us that vulnerabilities to exhaustion are not evenly or fairly distributed. Rest-related disparities often run along unequal racial, gender, and economic lines.\n",
      "WNBA finals tn?\n",
      "\n",
      "Aces win. Stake your life\n",
      "While the WNBA has embraced the importance of sleep and sleep technology, such technologies cannot remedy the systemic imbalances that drive exhaustion in the WNBA and may even camouflage unsafe and exploitative working conditions.\n",
      "Please, I want to be a WNBA wife… 🥹\n",
      "While the idea of professional athletes sleeping overnight at an airport would be almost unthinkable in men’s major league sports, WNBA players travel via standard commercial flights. This gendered disparity represents a serious health and safety issue.\n",
      "Ace end this series tonight. Aja Wilson WNBA Finals MVP and secures her first championship. #WNBAPlayoffs #WNBAFinals #aces #ajawilson\n",
      "Free Daily Picks 9/15/21\n",
      "\n",
      "NFL 🏈 KC -3.5 3u\n",
      "\n",
      "WNBA🏀 Aces ML 1u \n",
      "\n",
      "MLB⚾️\n",
      "\n",
      "Hou RL\n",
      "Mets RL \n",
      "\n",
      "#GamblingTwitter #Sports #TNFonPrime #casino #NFL\n",
      "With much of her team stranded overnight in an airport after a 79-76 win against the Washington Mystics earlier this year, Nneka Ogwumike of the LA Sparks issued a statement calling for a resolution to the WNBA’s ongoing travel issues.\n",
      "09-15-22\n",
      "NFL🏈\n",
      "Chiefs ml\n",
      "\n",
      "MLB⚾️\n",
      "Padres ml\n",
      "\n",
      "WNBA🏀\n",
      "Sun ml\n",
      "\n",
      "I know I been a little inactive I’m back now happy Thursday let’s get this 💰💰\n",
      "\n",
      "#nfl\n",
      "#MLB \n",
      "#FREEPICKS \n",
      "#sportsbettingpicks \n",
      "#GamblingTwiitter\n",
      "#WNBAPlayoffs \n",
      "#padres \n",
      "#Chiefs\n",
      "WNBA and TNF 🏈🔥🔥🔥\n",
      "Trying to convince my friends that we should go to Mohegan Sun and watch the Aces becomes WNBA champs and no one wants to go 🙃🙃🙃\n",
      "the kramer test. that's all there is to it. bring back kramer and that african american wnba commenter guy. for a couple rounds i guess. u kno. cuz. that'd be fine. CUZ IT'S BEEN APPARENTLY BLEEDING FINE TO HALVE UR SHARE PRICE BUT ALSO KEEP DAVE THE FAIRY KNOCKOFF CHAPEAU A BOX!\n",
      "We might crown a WNBA champion tonight. This season was way too fast but I'm excited for the Women's FIBA World Cup in a week and the NBA coming back next month!\n",
      "Weird how the WNBA Playoff Games keep falling on NFL Gameday. Hopefully The W adjusts the scheduling next year.\n",
      "When I get the full range of motion back in my arms, imma be shootin like future WNBA champion Kelsey Plum. 😂\n",
      "I know the WNBA is starting to blow up because the casuals are starting to appear\n",
      "Nothing will change in the Robert Sarver situation unless sponsors &amp; women leverage their financial commitment to the NBA. If this occurs, he will resign or a self-imposed longer suspension is added. The future growth of the WNBA &amp; NBA is aligned with women &amp; people of color.\n",
      "9/15 PICKS: \n",
      "MoneyLineBye:\n",
      "-Chiefs -4\n",
      "-Padres ML\n",
      "-Marlins ML\n",
      "J Shoves:\n",
      "-Mets -1.5\n",
      "-Cardinals -1.5\n",
      "-Joshua Palmer O 4.5 Receptions\n",
      "CG Sobs:\n",
      "-Astros -1.5\n",
      "-WNBA Las Vegas Aces +1\n",
      "-Mike Williams O 70.5 Receiving Yards\n",
      "I gotta figure out how to watch the WNBA finals and TNF at the same time\n",
      "gun to your head you gotta name either 5 male pornstars or 5 wnba players on the spot which one you choosing?\n",
      "Aces for the championship wnba was lit this year\n",
      "Has every WNBA finals game been at the same time as a prime time football game or am I trippin? Makin me double screen it\n",
      "I enjoy watching the WNBA mainly because I’ll bet on it….but why are the WNBA finals on tonight!? Game one was Sunday, game 3 tonight…hard to complain about nobody watching your league when you think you can complete with The NFL\n",
      "I can't believe not one of my followers informed me that the most contrarian bet on the board today is in this WNBA Finals.\n",
      "\n",
      "The Connecticut Sun are -1 against the Aces down 0-2. Only getting 29% of the bets, and the line isn't moving.\n",
      "\n",
      "Making my first WNBA bet of the season 🌞\n",
      "PIQUEPKBETS 9/15/22 \n",
      "NFL \n",
      "Chiefs ML -200\n",
      "Chiefs -4 -110 \n",
      "\n",
      "MLB \n",
      "Mets -1 1/2 -120 \n",
      "O4 F5 Marlins/Phillies +105\n",
      "Twins F5 ML -150 \n",
      "Diamondbacks ML +140 \n",
      "\n",
      "WNBA \n",
      "Aces ML +100 #gamblingtwitter #NFLKickoff #gambling #sports\n",
      "Who's Winning Tonight ?? 🤔😤\n",
      "GAME 3️⃣ #RaiseTheStakes #CTSun #AcesvsSun\n",
      "#WNBA #WNBATwitter #WNBAFinals #MoreThan\n",
      "thats crazy the wnba only play 36 regular season games\n",
      "Jonquel gotta go off tonight with home court in a win or go home game in the WNBA Finals ….? right ?\n",
      "Men weirdly care about who is straight or gay in the WNBA because they think that they will have a chance with a them. The NBA/NFL men girlfriends be influencers + entrepreneurs + YouTubers making money and men be entrepreneurs with no business.\n",
      "Wow, Becky Hammon coached under the great Pop... No wonder she came into the WNBA as a coach like she had been there before 😳 \n",
      "\n",
      "Aces gonna be world champs 💪🏾\n",
      "yes, I will be attending the JC party tonight, but I'm bringing my laptop so I can watch the Aces finish off the CT Sun in the WNBA finals (kina hora)\n",
      "By the time 2k release every year the wnba season is damn near over🤦🏽‍♂️\n",
      "789k viewers who watched the WNBA finals ain't bad... Let's see if they break a million tonight at 9pm 💪🏾\n",
      "wnba is growing, nice to see\n",
      "gained so much respect for the WNBA today\n",
      "You can be a fan of the WNBA and still dislike certain players and teams. \n",
      "\n",
      "People act like because the league needs so much support as a whole, we can't show fandom the same way we do in other leagues.\n",
      "Ill be honest I don’t want tonight to be the last WNBA game of the season but I also want to see A’ja get that ring\n",
      "Crazy. WNBA players get like $20 a hour lol\n",
      "*I Got Aces For The Win WNBA*\n",
      "I be seeing niggas talk shit about the WNBA like not in jokes but from the heart and them niggas so weird to me\n",
      "i’ve been so busy simply haven’t processed the aces could literally win their first championship tonight ???? a’ja wilson could become a wnba champion TONIGHT ????\n"
     ]
    }
   ],
   "source": [
    "for tweet in tweets.data:\n",
    "    print(tweet.text)"
   ]
  },
  {
   "cell_type": "code",
   "execution_count": 5,
   "id": "5f258b5e",
   "metadata": {},
   "outputs": [
    {
     "name": "stdout",
     "output_type": "stream",
     "text": [
      "{'end': '2022-09-09T00:00:00.000Z', 'start': '2022-09-08T22:38:44.000Z', 'tweet_count': 60}\n",
      "{'end': '2022-09-10T00:00:00.000Z', 'start': '2022-09-09T00:00:00.000Z', 'tweet_count': 1180}\n",
      "{'end': '2022-09-11T00:00:00.000Z', 'start': '2022-09-10T00:00:00.000Z', 'tweet_count': 175}\n",
      "{'end': '2022-09-12T00:00:00.000Z', 'start': '2022-09-11T00:00:00.000Z', 'tweet_count': 1171}\n",
      "{'end': '2022-09-13T00:00:00.000Z', 'start': '2022-09-12T00:00:00.000Z', 'tweet_count': 216}\n",
      "{'end': '2022-09-14T00:00:00.000Z', 'start': '2022-09-13T00:00:00.000Z', 'tweet_count': 321}\n",
      "{'end': '2022-09-15T00:00:00.000Z', 'start': '2022-09-14T00:00:00.000Z', 'tweet_count': 1053}\n",
      "{'end': '2022-09-15T22:38:44.000Z', 'start': '2022-09-15T00:00:00.000Z', 'tweet_count': 297}\n"
     ]
    }
   ],
   "source": [
    "counts = client.get_recent_tweets_count(query=query, granularity='day') # this can be modified between hour, minute\n",
    "# and day\n",
    "\n",
    "for count in counts.data:\n",
    "    print(count)"
   ]
  },
  {
   "cell_type": "code",
   "execution_count": 6,
   "id": "774f6c2c",
   "metadata": {},
   "outputs": [],
   "source": [
    "# was just testing stuff out here\n",
    "tweets_as_list = list(tweets.data)"
   ]
  },
  {
   "cell_type": "code",
   "execution_count": 7,
   "id": "b9639a31",
   "metadata": {},
   "outputs": [
    {
     "data": {
      "text/plain": [
       "<Tweet id=1570541625683869696 text='Are you watching ÑFL or WNBA tonight?'>"
      ]
     },
     "execution_count": 7,
     "metadata": {},
     "output_type": "execute_result"
    }
   ],
   "source": [
    "# accessing a tweet in our list still kinda testing stuff\n",
    "tweets_as_list[1]"
   ]
  },
  {
   "cell_type": "code",
   "execution_count": 8,
   "id": "d6e17500",
   "metadata": {},
   "outputs": [],
   "source": [
    "# importing pandas because it is simply the GOAT\n",
    "import pandas as pd\n",
    "pd.set_option('display.max_colwidth', None)\n"
   ]
  },
  {
   "cell_type": "code",
   "execution_count": 9,
   "id": "fa18fdf8",
   "metadata": {},
   "outputs": [],
   "source": [
    "# Taking the text of each tweet and putting it into a dataframe\n",
    "data = pd.DataFrame(data=[tweet.text for tweet in tweets.data], columns=['Tweets'])\n"
   ]
  },
  {
   "cell_type": "code",
   "execution_count": 10,
   "id": "ba55c6cc",
   "metadata": {},
   "outputs": [
    {
     "data": {
      "text/html": [
       "<div>\n",
       "<style scoped>\n",
       "    .dataframe tbody tr th:only-of-type {\n",
       "        vertical-align: middle;\n",
       "    }\n",
       "\n",
       "    .dataframe tbody tr th {\n",
       "        vertical-align: top;\n",
       "    }\n",
       "\n",
       "    .dataframe thead th {\n",
       "        text-align: right;\n",
       "    }\n",
       "</style>\n",
       "<table border=\"1\" class=\"dataframe\">\n",
       "  <thead>\n",
       "    <tr style=\"text-align: right;\">\n",
       "      <th></th>\n",
       "      <th>Tweets</th>\n",
       "    </tr>\n",
       "  </thead>\n",
       "  <tbody>\n",
       "    <tr>\n",
       "      <th>0</th>\n",
       "      <td>Gotta get some pizza and watch the WNBA finals 💯</td>\n",
       "    </tr>\n",
       "    <tr>\n",
       "      <th>1</th>\n",
       "      <td>Are you watching ÑFL or WNBA tonight?</td>\n",
       "    </tr>\n",
       "    <tr>\n",
       "      <th>2</th>\n",
       "      <td>Ladies are y’all watching the WNBA finals tonight?</td>\n",
       "    </tr>\n",
       "    <tr>\n",
       "      <th>3</th>\n",
       "      <td>When that wnba player gets out of Russian prison, my cats will probably die….#constantworry #Bellatrix #deatheaters</td>\n",
       "    </tr>\n",
       "    <tr>\n",
       "      <th>4</th>\n",
       "      <td>Whatever happened to that WNBA player that was detained, arrested, sentenced and imprisoned in Russian for bringing THC oils into their country?</td>\n",
       "    </tr>\n",
       "    <tr>\n",
       "      <th>...</th>\n",
       "      <td>...</td>\n",
       "    </tr>\n",
       "    <tr>\n",
       "      <th>95</th>\n",
       "      <td>Ill be honest I don’t want tonight to be the last WNBA game of the season but I also want to see A’ja get that ring</td>\n",
       "    </tr>\n",
       "    <tr>\n",
       "      <th>96</th>\n",
       "      <td>Crazy. WNBA players get like $20 a hour lol</td>\n",
       "    </tr>\n",
       "    <tr>\n",
       "      <th>97</th>\n",
       "      <td>*I Got Aces For The Win WNBA*</td>\n",
       "    </tr>\n",
       "    <tr>\n",
       "      <th>98</th>\n",
       "      <td>I be seeing niggas talk shit about the WNBA like not in jokes but from the heart and them niggas so weird to me</td>\n",
       "    </tr>\n",
       "    <tr>\n",
       "      <th>99</th>\n",
       "      <td>i’ve been so busy simply haven’t processed the aces could literally win their first championship tonight ???? a’ja wilson could become a wnba champion TONIGHT ????</td>\n",
       "    </tr>\n",
       "  </tbody>\n",
       "</table>\n",
       "<p>100 rows × 1 columns</p>\n",
       "</div>"
      ],
      "text/plain": [
       "                                                                                                                                                                 Tweets\n",
       "0                                                                                                                      Gotta get some pizza and watch the WNBA finals 💯\n",
       "1                                                                                                                                 Are you watching ÑFL or WNBA tonight?\n",
       "2                                                                                                                    Ladies are y’all watching the WNBA finals tonight?\n",
       "3                                                   When that wnba player gets out of Russian prison, my cats will probably die….#constantworry #Bellatrix #deatheaters\n",
       "4                      Whatever happened to that WNBA player that was detained, arrested, sentenced and imprisoned in Russian for bringing THC oils into their country?\n",
       "..                                                                                                                                                                  ...\n",
       "95                                                  Ill be honest I don’t want tonight to be the last WNBA game of the season but I also want to see A’ja get that ring\n",
       "96                                                                                                                          Crazy. WNBA players get like $20 a hour lol\n",
       "97                                                                                                                                        *I Got Aces For The Win WNBA*\n",
       "98                                                      I be seeing niggas talk shit about the WNBA like not in jokes but from the heart and them niggas so weird to me\n",
       "99  i’ve been so busy simply haven’t processed the aces could literally win their first championship tonight ???? a’ja wilson could become a wnba champion TONIGHT ????\n",
       "\n",
       "[100 rows x 1 columns]"
      ]
     },
     "execution_count": 10,
     "metadata": {},
     "output_type": "execute_result"
    }
   ],
   "source": [
    "data"
   ]
  },
  {
   "cell_type": "code",
   "execution_count": 11,
   "id": "98b53952",
   "metadata": {},
   "outputs": [],
   "source": [
    "from sklearn.feature_extraction.text import TfidfVectorizer"
   ]
  },
  {
   "cell_type": "code",
   "execution_count": 12,
   "id": "649bfbe3",
   "metadata": {},
   "outputs": [
    {
     "data": {
      "text/html": [
       "<style>#sk-container-id-1 {color: black;background-color: white;}#sk-container-id-1 pre{padding: 0;}#sk-container-id-1 div.sk-toggleable {background-color: white;}#sk-container-id-1 label.sk-toggleable__label {cursor: pointer;display: block;width: 100%;margin-bottom: 0;padding: 0.3em;box-sizing: border-box;text-align: center;}#sk-container-id-1 label.sk-toggleable__label-arrow:before {content: \"▸\";float: left;margin-right: 0.25em;color: #696969;}#sk-container-id-1 label.sk-toggleable__label-arrow:hover:before {color: black;}#sk-container-id-1 div.sk-estimator:hover label.sk-toggleable__label-arrow:before {color: black;}#sk-container-id-1 div.sk-toggleable__content {max-height: 0;max-width: 0;overflow: hidden;text-align: left;background-color: #f0f8ff;}#sk-container-id-1 div.sk-toggleable__content pre {margin: 0.2em;color: black;border-radius: 0.25em;background-color: #f0f8ff;}#sk-container-id-1 input.sk-toggleable__control:checked~div.sk-toggleable__content {max-height: 200px;max-width: 100%;overflow: auto;}#sk-container-id-1 input.sk-toggleable__control:checked~label.sk-toggleable__label-arrow:before {content: \"▾\";}#sk-container-id-1 div.sk-estimator input.sk-toggleable__control:checked~label.sk-toggleable__label {background-color: #d4ebff;}#sk-container-id-1 div.sk-label input.sk-toggleable__control:checked~label.sk-toggleable__label {background-color: #d4ebff;}#sk-container-id-1 input.sk-hidden--visually {border: 0;clip: rect(1px 1px 1px 1px);clip: rect(1px, 1px, 1px, 1px);height: 1px;margin: -1px;overflow: hidden;padding: 0;position: absolute;width: 1px;}#sk-container-id-1 div.sk-estimator {font-family: monospace;background-color: #f0f8ff;border: 1px dotted black;border-radius: 0.25em;box-sizing: border-box;margin-bottom: 0.5em;}#sk-container-id-1 div.sk-estimator:hover {background-color: #d4ebff;}#sk-container-id-1 div.sk-parallel-item::after {content: \"\";width: 100%;border-bottom: 1px solid gray;flex-grow: 1;}#sk-container-id-1 div.sk-label:hover label.sk-toggleable__label {background-color: #d4ebff;}#sk-container-id-1 div.sk-serial::before {content: \"\";position: absolute;border-left: 1px solid gray;box-sizing: border-box;top: 0;bottom: 0;left: 50%;z-index: 0;}#sk-container-id-1 div.sk-serial {display: flex;flex-direction: column;align-items: center;background-color: white;padding-right: 0.2em;padding-left: 0.2em;position: relative;}#sk-container-id-1 div.sk-item {position: relative;z-index: 1;}#sk-container-id-1 div.sk-parallel {display: flex;align-items: stretch;justify-content: center;background-color: white;position: relative;}#sk-container-id-1 div.sk-item::before, #sk-container-id-1 div.sk-parallel-item::before {content: \"\";position: absolute;border-left: 1px solid gray;box-sizing: border-box;top: 0;bottom: 0;left: 50%;z-index: -1;}#sk-container-id-1 div.sk-parallel-item {display: flex;flex-direction: column;z-index: 1;position: relative;background-color: white;}#sk-container-id-1 div.sk-parallel-item:first-child::after {align-self: flex-end;width: 50%;}#sk-container-id-1 div.sk-parallel-item:last-child::after {align-self: flex-start;width: 50%;}#sk-container-id-1 div.sk-parallel-item:only-child::after {width: 0;}#sk-container-id-1 div.sk-dashed-wrapped {border: 1px dashed gray;margin: 0 0.4em 0.5em 0.4em;box-sizing: border-box;padding-bottom: 0.4em;background-color: white;}#sk-container-id-1 div.sk-label label {font-family: monospace;font-weight: bold;display: inline-block;line-height: 1.2em;}#sk-container-id-1 div.sk-label-container {text-align: center;}#sk-container-id-1 div.sk-container {/* jupyter's `normalize.less` sets `[hidden] { display: none; }` but bootstrap.min.css set `[hidden] { display: none !important; }` so we also need the `!important` here to be able to override the default hidden behavior on the sphinx rendered scikit-learn.org. See: https://github.com/scikit-learn/scikit-learn/issues/21755 */display: inline-block !important;position: relative;}#sk-container-id-1 div.sk-text-repr-fallback {display: none;}</style><div id=\"sk-container-id-1\" class=\"sk-top-container\"><div class=\"sk-text-repr-fallback\"><pre>TfidfVectorizer(min_df=2, stop_words=&#x27;english&#x27;)</pre><b>In a Jupyter environment, please rerun this cell to show the HTML representation or trust the notebook. <br />On GitHub, the HTML representation is unable to render, please try loading this page with nbviewer.org.</b></div><div class=\"sk-container\" hidden><div class=\"sk-item\"><div class=\"sk-estimator sk-toggleable\"><input class=\"sk-toggleable__control sk-hidden--visually\" id=\"sk-estimator-id-1\" type=\"checkbox\" checked><label for=\"sk-estimator-id-1\" class=\"sk-toggleable__label sk-toggleable__label-arrow\">TfidfVectorizer</label><div class=\"sk-toggleable__content\"><pre>TfidfVectorizer(min_df=2, stop_words=&#x27;english&#x27;)</pre></div></div></div></div></div>"
      ],
      "text/plain": [
       "TfidfVectorizer(min_df=2, stop_words='english')"
      ]
     },
     "execution_count": 12,
     "metadata": {},
     "output_type": "execute_result"
    }
   ],
   "source": [
    "tfidf = TfidfVectorizer(min_df = 2, stop_words='english')\n",
    "\n",
    "tfidf.fit(data['Tweets'])\n"
   ]
  },
  {
   "cell_type": "code",
   "execution_count": null,
   "id": "3476b124",
   "metadata": {},
   "outputs": [],
   "source": [
    "transformed_tweets = tfidf.transform(data['Tweets'])"
   ]
  },
  {
   "cell_type": "code",
   "execution_count": null,
   "id": "1b9b3063",
   "metadata": {},
   "outputs": [],
   "source": []
  }
 ],
 "metadata": {
  "kernelspec": {
   "display_name": "Python 3 (ipykernel)",
   "language": "python",
   "name": "python3"
  },
  "language_info": {
   "codemirror_mode": {
    "name": "ipython",
    "version": 3
   },
   "file_extension": ".py",
   "mimetype": "text/x-python",
   "name": "python",
   "nbconvert_exporter": "python",
   "pygments_lexer": "ipython3",
   "version": "3.9.13"
  }
 },
 "nbformat": 4,
 "nbformat_minor": 5
}
